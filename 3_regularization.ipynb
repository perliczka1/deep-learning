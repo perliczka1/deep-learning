{
 "cells": [
  {
   "cell_type": "markdown",
   "metadata": {
    "colab_type": "text",
    "id": "kR-4eNdK6lYS"
   },
   "source": [
    "Deep Learning\n",
    "=============\n",
    "\n",
    "Assignment 3\n",
    "------------\n",
    "\n",
    "Previously in `2_fullyconnected.ipynb`, you trained a logistic regression and a neural network model.\n",
    "\n",
    "The goal of this assignment is to explore regularization techniques."
   ]
  },
  {
   "cell_type": "code",
   "execution_count": 3,
   "metadata": {
    "cellView": "both",
    "colab": {
     "autoexec": {
      "startup": false,
      "wait_interval": 0
     }
    },
    "colab_type": "code",
    "collapsed": false,
    "id": "JLpLa8Jt7Vu4"
   },
   "outputs": [],
   "source": [
    "# These are all the modules we'll be using later. Make sure you can import them\n",
    "# before proceeding further.\n",
    "from __future__ import print_function\n",
    "import numpy as np\n",
    "import tensorflow as tf\n",
    "from six.moves import cPickle as pickle\n",
    "import os\n",
    "import time\n",
    "import random as rd\n",
    "import math"
   ]
  },
  {
   "cell_type": "markdown",
   "metadata": {
    "colab_type": "text",
    "id": "1HrCK6e17WzV"
   },
   "source": [
    "First reload the data we generated in _notmist.ipynb_."
   ]
  },
  {
   "cell_type": "code",
   "execution_count": 4,
   "metadata": {
    "cellView": "both",
    "colab": {
     "autoexec": {
      "startup": false,
      "wait_interval": 0
     },
     "output_extras": [
      {
       "item_id": 1
      }
     ]
    },
    "colab_type": "code",
    "collapsed": false,
    "executionInfo": {
     "elapsed": 11777,
     "status": "ok",
     "timestamp": 1449849322348,
     "user": {
      "color": "",
      "displayName": "",
      "isAnonymous": false,
      "isMe": true,
      "permissionId": "",
      "photoUrl": "",
      "sessionId": "0",
      "userId": ""
     },
     "user_tz": 480
    },
    "id": "y3-cj1bpmuxc",
    "outputId": "e03576f1-ebbe-4838-c388-f1777bcc9873"
   },
   "outputs": [
    {
     "name": "stdout",
     "output_type": "stream",
     "text": [
      "Training set (350000, 28, 28) (350000,)\n",
      "Validation set (10000, 28, 28) (10000,)\n",
      "Test set (10000, 28, 28) (10000,)\n"
     ]
    }
   ],
   "source": [
    "pickle_file = 'notMNIST.pickle'\n",
    "\n",
    "with open(pickle_file, 'rb') as f:\n",
    "  save = pickle.load(f)\n",
    "  train_dataset = save['train_dataset']\n",
    "  train_labels = save['train_labels']\n",
    "  valid_dataset = save['valid_dataset']\n",
    "  valid_labels = save['valid_labels']\n",
    "  test_dataset = save['test_dataset']\n",
    "  test_labels = save['test_labels']\n",
    "  del save  # hint to help gc free up memory\n",
    "  print('Training set', train_dataset.shape, train_labels.shape)\n",
    "  print('Validation set', valid_dataset.shape, valid_labels.shape)\n",
    "  print('Test set', test_dataset.shape, test_labels.shape)"
   ]
  },
  {
   "cell_type": "markdown",
   "metadata": {
    "colab_type": "text",
    "id": "L7aHrm6nGDMB"
   },
   "source": [
    "Reformat into a shape that's more adapted to the models we're going to train:\n",
    "- data as a flat matrix,\n",
    "- labels as float 1-hot encodings."
   ]
  },
  {
   "cell_type": "code",
   "execution_count": 5,
   "metadata": {
    "cellView": "both",
    "colab": {
     "autoexec": {
      "startup": false,
      "wait_interval": 0
     },
     "output_extras": [
      {
       "item_id": 1
      }
     ]
    },
    "colab_type": "code",
    "collapsed": false,
    "executionInfo": {
     "elapsed": 11728,
     "status": "ok",
     "timestamp": 1449849322356,
     "user": {
      "color": "",
      "displayName": "",
      "isAnonymous": false,
      "isMe": true,
      "permissionId": "",
      "photoUrl": "",
      "sessionId": "0",
      "userId": ""
     },
     "user_tz": 480
    },
    "id": "IRSyYiIIGIzS",
    "outputId": "3f8996ee-3574-4f44-c953-5c8a04636582"
   },
   "outputs": [
    {
     "name": "stdout",
     "output_type": "stream",
     "text": [
      "Training set (350000, 784) (350000, 10)\n",
      "Validation set (10000, 784) (10000, 10)\n",
      "Test set (10000, 784) (10000, 10)\n"
     ]
    }
   ],
   "source": [
    "image_size = 28\n",
    "num_labels = 10\n",
    "\n",
    "def reformat(dataset, labels):\n",
    "  dataset = dataset.reshape((-1, image_size * image_size)).astype(np.float32)\n",
    "  # Map 2 to [0.0, 1.0, 0.0 ...], 3 to [0.0, 0.0, 1.0 ...]\n",
    "  labels = (np.arange(num_labels) == labels[:,None]).astype(np.float32)\n",
    "  return dataset, labels\n",
    "train_dataset, train_labels = reformat(train_dataset, train_labels)\n",
    "valid_dataset, valid_labels = reformat(valid_dataset, valid_labels)\n",
    "test_dataset, test_labels = reformat(test_dataset, test_labels)\n",
    "print('Training set', train_dataset.shape, train_labels.shape)\n",
    "print('Validation set', valid_dataset.shape, valid_labels.shape)\n",
    "print('Test set', test_dataset.shape, test_labels.shape)"
   ]
  },
  {
   "cell_type": "code",
   "execution_count": 13,
   "metadata": {
    "cellView": "both",
    "colab": {
     "autoexec": {
      "startup": false,
      "wait_interval": 0
     }
    },
    "colab_type": "code",
    "collapsed": true,
    "id": "RajPLaL_ZW6w"
   },
   "outputs": [],
   "source": [
    "def accuracy(predictions, labels):\n",
    "  return (100.0 * np.sum(np.argmax(predictions, 1) == np.argmax(labels, 1))\n",
    "          / predictions.shape[0])"
   ]
  },
  {
   "cell_type": "markdown",
   "metadata": {
    "colab_type": "text",
    "id": "sgLbUAQ1CW-1"
   },
   "source": [
    "---\n",
    "Problem 1\n",
    "---------\n",
    "\n",
    "Introduce and tune L2 regularization for both logistic and neural network models. Remember that L2 amounts to adding a penalty on the norm of the weights to the loss. In TensorFlow, you can compute the L2 loss for a tensor `t` using `nn.l2_loss(t)`. The right amount of regularization should improve your validation / test accuracy.\n",
    "\n",
    "---"
   ]
  },
  {
   "cell_type": "markdown",
   "metadata": {
    "colab_type": "text",
    "id": "na8xX2yHZzNF"
   },
   "source": [
    "---\n",
    "Problem 2\n",
    "---------\n",
    "Let's demonstrate an extreme case of overfitting. Restrict your training data to just a few batches. What happens?\n",
    "\n",
    "---"
   ]
  },
  {
   "cell_type": "markdown",
   "metadata": {
    "colab_type": "text",
    "id": "ww3SCBUdlkRc"
   },
   "source": [
    "---\n",
    "Problem 3\n",
    "---------\n",
    "Introduce Dropout on the hidden layer of the neural network. Remember: Dropout should only be introduced during training, not evaluation, otherwise your evaluation results would be stochastic as well. TensorFlow provides `nn.dropout()` for that, but you have to make sure it's only inserted during training.\n",
    "\n",
    "What happens to our extreme overfitting case?\n",
    "\n",
    "---"
   ]
  },
  {
   "cell_type": "markdown",
   "metadata": {
    "colab_type": "text",
    "id": "-b1hTz3VWZjw"
   },
   "source": [
    "---\n",
    "Problem 4\n",
    "---------\n",
    "\n",
    "Try to get the best performance you can using a multi-layer model! The best reported test accuracy using a deep network is [97.1%](http://yaroslavvb.blogspot.com/2011/09/notmnist-dataset.html?showComment=1391023266211#c8758720086795711595).\n",
    "\n",
    "One avenue you can explore is to add multiple layers.\n",
    "\n",
    "Another one is to use learning rate decay:\n",
    "\n",
    "    global_step = tf.Variable(0)  # count the number of steps taken.\n",
    "    learning_rate = tf.train.exponential_decay(0.5, global_step, ...)\n",
    "    optimizer = tf.train.GradientDescentOptimizer(learning_rate).minimize(loss, global_step=global_step)\n",
    " \n",
    " ---\n"
   ]
  },
  {
   "cell_type": "code",
   "execution_count": 11,
   "metadata": {
    "collapsed": true
   },
   "outputs": [],
   "source": [
    "\n"
   ]
  },
  {
   "cell_type": "code",
   "execution_count": 70,
   "metadata": {
    "collapsed": false
   },
   "outputs": [],
   "source": [
    "def run_model(num_epochs, batch_size,hidden_nodes, learning_rate, dropout_keep_prob, l2_penalty, \\\n",
    "                train_dataset,train_labels, path_to_save):\n",
    "    num_steps = (train_labels.shape[0] * num_epochs) / batch_size\n",
    "    epoch_log = np.full(num_steps, np.nan)\n",
    "    loss_log = np.full(num_steps, np.nan)\n",
    "    acc_log = np.full(num_steps, np.nan)\n",
    "    val_acc_log = np.full(num_steps, np.nan)\n",
    "    test_acc_log = np.full(num_steps, np.nan)\n",
    "    print(num_steps)\n",
    "    if not os.path.exists(path_to_save):\n",
    "        os.makedirs(path_to_save)\n",
    "        \n",
    "    epoch_nb = -1\n",
    "    graph = tf.Graph()\n",
    "    # GRAPH\n",
    "    with graph.as_default():\n",
    "        # Input data. For the training data, we use a placeholder that will be fed\n",
    "        # at run time with a training minibatch.\n",
    "\n",
    "        tf_train_dataset = tf.placeholder(tf.float32,shape=(batch_size, image_size * image_size))\n",
    "        tf_train_labels = tf.placeholder(tf.float32, shape=(batch_size, num_labels))\n",
    "        tf_valid_dataset = tf.constant(valid_dataset)\n",
    "        tf_test_dataset = tf.constant(test_dataset)\n",
    "        # Input parameters:\n",
    "        tf_learning_rate = tf.placeholder(tf.float32)\n",
    "        tf_dropout_keep_prob =  tf.placeholder(tf.float32)\n",
    "        tf_l2_penalty =  tf.placeholder(tf.float32)\n",
    "\n",
    "        # Variables.\n",
    "        # 1 layer      \n",
    "        hidden_weights = tf.Variable(\n",
    "        tf.truncated_normal([image_size * image_size, hidden_nodes], stddev=2 / math.sqrt(float(image_size * image_size))))\n",
    "        hidden_biases = tf.Variable(tf.zeros([hidden_nodes]))\n",
    "        hidden = tf.nn.relu(tf.matmul(tf_train_dataset, hidden_weights) + hidden_biases)\n",
    "        hidden_after_drop = tf.nn.dropout(hidden, tf_dropout_keep_prob)\n",
    "\n",
    "        # 2 layer \n",
    "        hidden_weights_2 = tf.Variable(\n",
    "        tf.truncated_normal([hidden_nodes, hidden_nodes], stddev=2 / math.sqrt(float(hidden_nodes))))\n",
    "        hidden_biases_2 = tf.Variable(tf.zeros([hidden_nodes]))\n",
    "        hidden_2 = tf.nn.relu(tf.matmul(hidden_after_drop, hidden_weights_2) + hidden_biases_2)\n",
    "        hidden_after_drop_2 = tf.nn.dropout(hidden_2, tf_dropout_keep_prob)\n",
    "\n",
    "        # 3 layer \n",
    "        hidden_weights_3 = tf.Variable(\n",
    "        tf.truncated_normal([hidden_nodes, hidden_nodes], stddev=2 / math.sqrt(float(hidden_nodes))))\n",
    "        hidden_biases_3 = tf.Variable(tf.zeros([hidden_nodes]))\n",
    "        hidden_3 = tf.nn.relu(tf.matmul(hidden_after_drop_2, hidden_weights_3) + hidden_biases_3)\n",
    "        hidden_after_drop_3 = tf.nn.dropout(hidden_3, tf_dropout_keep_prob)\n",
    "\n",
    "        weights = tf.Variable(tf.truncated_normal([hidden_nodes, num_labels]))\n",
    "        biases = tf.Variable(tf.zeros([num_labels]))\n",
    "\n",
    "        # Training computation.\n",
    "        logits = tf.matmul(hidden_after_drop_3, weights) + biases\n",
    "        loss = tf.reduce_mean(\n",
    "        tf.nn.softmax_cross_entropy_with_logits(logits, tf_train_labels))+tf_l2_penalty*tf.nn.l2_loss(weights)\n",
    "\n",
    "        # Optimizer.\n",
    "        optimizer = tf.train.AdamOptimizer(tf_learning_rate).minimize(loss)\n",
    "\n",
    "        # Predictions for the training, validation, and test data.\n",
    "        train_prediction = tf.nn.softmax(logits)\n",
    "        valid_prediction = tf.nn.softmax(\n",
    "        tf.matmul(tf.nn.relu(tf.matmul(tf.nn.relu(tf.matmul(\n",
    "\n",
    "                  tf.nn.relu(tf.matmul(tf_valid_dataset, hidden_weights) + hidden_biases),\n",
    "\n",
    "                                        hidden_weights_2) + hidden_biases_2),\n",
    "\n",
    "                                        hidden_weights_3) + hidden_biases_3), weights) + biases)\n",
    "\n",
    "        test_prediction = tf.nn.softmax(\n",
    "        tf.matmul(tf.nn.relu(tf.matmul(\n",
    "        tf.nn.relu(tf.matmul(\n",
    "        tf.nn.relu(tf.matmul(tf_test_dataset, hidden_weights) + hidden_biases),hidden_weights_2) + hidden_biases_2),hidden_weights_3) + hidden_biases_3), weights) + biases)\n",
    " #starting new session     \n",
    "    with tf.Session(graph=graph) as session:\n",
    "        tf.initialize_all_variables().run()\n",
    "        for step in range(num_steps):\n",
    "            # Pick an offset within the training data, which has been randomized.\n",
    "            # Note: we could use better randomization across epochs.\n",
    "            offset = (step * batch_size) % (train_labels.shape[0] - batch_size)\n",
    "            # Generate a minibatch.\n",
    "            batch_data = train_dataset[offset:(offset + batch_size), :]\n",
    "            batch_labels = train_labels[offset:(offset + batch_size), :]\n",
    "\n",
    "            # Prepare a dictionary telling the session where to feed the minibatch.\n",
    "            # The key of the dictionary is the placeholder node of the graph to be fed,\n",
    "            # and the value is the numpy array to feed to it.\n",
    "            feed_dict = {tf_train_dataset : batch_data, tf_train_labels : batch_labels, \n",
    "                        tf_learning_rate : learning_rate, tf_dropout_keep_prob : dropout_keep_prob, \n",
    "                         tf_l2_penalty : l2_penalty}\n",
    "            _, l, predictions = session.run(\n",
    "                    [optimizer, loss, train_prediction], feed_dict=feed_dict)\n",
    "            loss_log[step] = l\n",
    "            epoch_log[step] = step * batch_size / float(train_labels.shape[0])\n",
    "            if (step % 100 == 0):\n",
    "                #print(\"Minibatch loss at step %d: %f\" % (step, l))\n",
    "                #print(\"Minibatch accuracy: %.1f%%\" % accuracy(predictions, batch_labels))\n",
    "                #print(\"Validation accuracy: %.1f%%\" % accuracy( valid_prediction.eval(), valid_labels))\n",
    "                \n",
    "                val_acc_log[step] = accuracy(valid_prediction.eval(), valid_labels)\n",
    "                acc_log[step] = accuracy(predictions, batch_labels)\n",
    "                \n",
    "\n",
    "        test_acc_log[step] = accuracy(test_prediction.eval(), test_labels)\n",
    "        file_name = str(test_acc_log[step]) + '_ne.'+str(num_epochs)+'_bs.' + str(batch_size)+ '_lr.'+str(learning_rate) \\\n",
    "                    + '_d.' + str(dropout_keep_prob) +'_l2.'+ str(l2_penalty) + '_t'+'.csv'\n",
    "        np.savetxt(os.path.join(path_to_save, file_name), np.vstack((epoch_log, loss_log, acc_log, val_acc_log, test_acc_log)).T, delimiter = ';', fmt='%.10f')\n",
    "        print(\"Test accuracy: %.1f%%\" % accuracy(test_prediction.eval(), test_labels))"
   ]
  },
  {
   "cell_type": "markdown",
   "metadata": {},
   "source": [
    "Test if we get 100% accuracy on small training dataset:"
   ]
  },
  {
   "cell_type": "code",
   "execution_count": 65,
   "metadata": {
    "collapsed": false
   },
   "outputs": [
    {
     "name": "stdout",
     "output_type": "stream",
     "text": [
      "600\n",
      "Minibatch loss at step 0: 29.219322\n",
      "Minibatch accuracy: 8.6%\n",
      "Validation accuracy: 16.4%\n",
      "Minibatch loss at step 100: 0.000004\n",
      "Minibatch accuracy: 100.0%\n",
      "Validation accuracy: 61.0%\n",
      "Minibatch loss at step 200: 0.000000\n",
      "Minibatch accuracy: 100.0%\n",
      "Validation accuracy: 61.1%\n",
      "Minibatch loss at step 300: 0.000000\n",
      "Minibatch accuracy: 100.0%\n",
      "Validation accuracy: 61.1%\n",
      "Minibatch loss at step 400: 0.000000\n",
      "Minibatch accuracy: 100.0%\n",
      "Validation accuracy: 61.1%\n",
      "Minibatch loss at step 500: 0.000000\n",
      "Minibatch accuracy: 100.0%\n",
      "Validation accuracy: 61.1%\n",
      "Test accuracy: 67.3%\n"
     ]
    }
   ],
   "source": [
    "run_model(300, 128,1024, 0.005, 1.0, 0, train_dataset[:256],train_labels[:256], '/notebooks/run1')"
   ]
  },
  {
   "cell_type": "markdown",
   "metadata": {},
   "source": [
    "OK!"
   ]
  },
  {
   "cell_type": "code",
   "execution_count": null,
   "metadata": {
    "collapsed": false
   },
   "outputs": [],
   "source": [
    "num_epochs = 5\n",
    "hidden_nodes = 1024\n",
    "for i in range(50):\n",
    "    t0 = time.time()\n",
    "    batch_size = rd.choice([1,32,64,128])\n",
    "    learning_rate = 10 ** rd.uniform(-6., 1.)\n",
    "    dropout_keep_prob = rd.uniform(0,1)\n",
    "    l2_penalty = 10 ** rd.uniform(-7., 1.)\n",
    "    run_model(num_epochs, batch_size,hidden_nodes, learning_rate, dropout_keep_prob, l2_penalty, \\\n",
    "                train_dataset,train_labels, '/notebooks/run2')   \n",
    "    t1 = time.time()\n",
    "    print('Model',i,'- time:',(t1-t0)/60, 'min.')"
   ]
  },
  {
   "cell_type": "code",
   "execution_count": 42,
   "metadata": {
    "collapsed": true
   },
   "outputs": [],
   "source": []
  },
  {
   "cell_type": "code",
   "execution_count": 53,
   "metadata": {
    "collapsed": false
   },
   "outputs": [
    {
     "data": {
      "text/plain": [
       "array([[ 0.,  1.,  2.,  3.,  4.],\n",
       "       [ 0.,  1.,  2.,  3.,  4.]])"
      ]
     },
     "execution_count": 53,
     "metadata": {},
     "output_type": "execute_result"
    }
   ],
   "source": []
  },
  {
   "cell_type": "code",
   "execution_count": 51,
   "metadata": {
    "collapsed": false
   },
   "outputs": [],
   "source": []
  },
  {
   "cell_type": "code",
   "execution_count": null,
   "metadata": {
    "collapsed": true
   },
   "outputs": [],
   "source": []
  }
 ],
 "metadata": {
  "colab": {
   "default_view": {},
   "name": "3_regularization.ipynb",
   "provenance": [],
   "version": "0.3.2",
   "views": {}
  },
  "kernelspec": {
   "display_name": "Python 2",
   "language": "python",
   "name": "python2"
  },
  "language_info": {
   "codemirror_mode": {
    "name": "ipython",
    "version": 2
   },
   "file_extension": ".py",
   "mimetype": "text/x-python",
   "name": "python",
   "nbconvert_exporter": "python",
   "pygments_lexer": "ipython2",
   "version": "2.7.6"
  }
 },
 "nbformat": 4,
 "nbformat_minor": 0
}
