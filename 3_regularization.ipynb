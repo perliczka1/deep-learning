{
 "cells": [
  {
   "cell_type": "markdown",
   "metadata": {
    "colab_type": "text",
    "id": "kR-4eNdK6lYS"
   },
   "source": [
    "Deep Learning\n",
    "=============\n",
    "\n",
    "Assignment 3\n",
    "------------\n",
    "\n",
    "Previously in `2_fullyconnected.ipynb`, you trained a logistic regression and a neural network model.\n",
    "\n",
    "The goal of this assignment is to explore regularization techniques."
   ]
  },
  {
   "cell_type": "code",
   "execution_count": 1,
   "metadata": {
    "cellView": "both",
    "colab": {
     "autoexec": {
      "startup": false,
      "wait_interval": 0
     }
    },
    "colab_type": "code",
    "collapsed": false,
    "id": "JLpLa8Jt7Vu4"
   },
   "outputs": [],
   "source": [
    "# These are all the modules we'll be using later. Make sure you can import them\n",
    "# before proceeding further.\n",
    "from __future__ import print_function\n",
    "import numpy as np\n",
    "import tensorflow as tf\n",
    "from six.moves import cPickle as pickle\n",
    "import os\n",
    "import time\n",
    "import random as rd\n",
    "import math"
   ]
  },
  {
   "cell_type": "markdown",
   "metadata": {
    "colab_type": "text",
    "id": "1HrCK6e17WzV"
   },
   "source": [
    "First reload the data we generated in _notmist.ipynb_."
   ]
  },
  {
   "cell_type": "code",
   "execution_count": 2,
   "metadata": {
    "cellView": "both",
    "colab": {
     "autoexec": {
      "startup": false,
      "wait_interval": 0
     },
     "output_extras": [
      {
       "item_id": 1
      }
     ]
    },
    "colab_type": "code",
    "collapsed": false,
    "executionInfo": {
     "elapsed": 11777,
     "status": "ok",
     "timestamp": 1449849322348,
     "user": {
      "color": "",
      "displayName": "",
      "isAnonymous": false,
      "isMe": true,
      "permissionId": "",
      "photoUrl": "",
      "sessionId": "0",
      "userId": ""
     },
     "user_tz": 480
    },
    "id": "y3-cj1bpmuxc",
    "outputId": "e03576f1-ebbe-4838-c388-f1777bcc9873"
   },
   "outputs": [
    {
     "name": "stdout",
     "output_type": "stream",
     "text": [
      "Training set (350000, 28, 28) (350000,)\n",
      "Validation set (10000, 28, 28) (10000,)\n",
      "Test set (10000, 28, 28) (10000,)\n"
     ]
    }
   ],
   "source": [
    "pickle_file = 'notMNIST.pickle'\n",
    "\n",
    "with open(pickle_file, 'rb') as f:\n",
    "  save = pickle.load(f)\n",
    "  train_dataset = save['train_dataset']\n",
    "  train_labels = save['train_labels']\n",
    "  valid_dataset = save['valid_dataset']\n",
    "  valid_labels = save['valid_labels']\n",
    "  test_dataset = save['test_dataset']\n",
    "  test_labels = save['test_labels']\n",
    "  del save  # hint to help gc free up memory\n",
    "  print('Training set', train_dataset.shape, train_labels.shape)\n",
    "  print('Validation set', valid_dataset.shape, valid_labels.shape)\n",
    "  print('Test set', test_dataset.shape, test_labels.shape)"
   ]
  },
  {
   "cell_type": "markdown",
   "metadata": {
    "colab_type": "text",
    "id": "L7aHrm6nGDMB"
   },
   "source": [
    "Reformat into a shape that's more adapted to the models we're going to train:\n",
    "- data as a flat matrix,\n",
    "- labels as float 1-hot encodings."
   ]
  },
  {
   "cell_type": "code",
   "execution_count": 3,
   "metadata": {
    "cellView": "both",
    "colab": {
     "autoexec": {
      "startup": false,
      "wait_interval": 0
     },
     "output_extras": [
      {
       "item_id": 1
      }
     ]
    },
    "colab_type": "code",
    "collapsed": false,
    "executionInfo": {
     "elapsed": 11728,
     "status": "ok",
     "timestamp": 1449849322356,
     "user": {
      "color": "",
      "displayName": "",
      "isAnonymous": false,
      "isMe": true,
      "permissionId": "",
      "photoUrl": "",
      "sessionId": "0",
      "userId": ""
     },
     "user_tz": 480
    },
    "id": "IRSyYiIIGIzS",
    "outputId": "3f8996ee-3574-4f44-c953-5c8a04636582"
   },
   "outputs": [
    {
     "name": "stdout",
     "output_type": "stream",
     "text": [
      "Training set (350000, 784) (350000, 10)\n",
      "Validation set (10000, 784) (10000, 10)\n",
      "Test set (10000, 784) (10000, 10)\n"
     ]
    }
   ],
   "source": [
    "image_size = 28\n",
    "num_labels = 10\n",
    "\n",
    "def reformat(dataset, labels):\n",
    "  dataset = dataset.reshape((-1, image_size * image_size)).astype(np.float32)\n",
    "  # Map 2 to [0.0, 1.0, 0.0 ...], 3 to [0.0, 0.0, 1.0 ...]\n",
    "  labels = (np.arange(num_labels) == labels[:,None]).astype(np.float32)\n",
    "  return dataset, labels\n",
    "train_dataset, train_labels = reformat(train_dataset, train_labels)\n",
    "valid_dataset, valid_labels = reformat(valid_dataset, valid_labels)\n",
    "test_dataset, test_labels = reformat(test_dataset, test_labels)\n",
    "print('Training set', train_dataset.shape, train_labels.shape)\n",
    "print('Validation set', valid_dataset.shape, valid_labels.shape)\n",
    "print('Test set', test_dataset.shape, test_labels.shape)"
   ]
  },
  {
   "cell_type": "code",
   "execution_count": 4,
   "metadata": {
    "cellView": "both",
    "colab": {
     "autoexec": {
      "startup": false,
      "wait_interval": 0
     }
    },
    "colab_type": "code",
    "collapsed": true,
    "id": "RajPLaL_ZW6w"
   },
   "outputs": [],
   "source": [
    "def accuracy(predictions, labels):\n",
    "  return (100.0 * np.sum(np.argmax(predictions, 1) == np.argmax(labels, 1))\n",
    "          / predictions.shape[0])"
   ]
  },
  {
   "cell_type": "markdown",
   "metadata": {
    "colab_type": "text",
    "id": "sgLbUAQ1CW-1"
   },
   "source": [
    "---\n",
    "Problem 1\n",
    "---------\n",
    "\n",
    "Introduce and tune L2 regularization for both logistic and neural network models. Remember that L2 amounts to adding a penalty on the norm of the weights to the loss. In TensorFlow, you can compute the L2 loss for a tensor `t` using `nn.l2_loss(t)`. The right amount of regularization should improve your validation / test accuracy.\n",
    "\n",
    "---"
   ]
  },
  {
   "cell_type": "markdown",
   "metadata": {},
   "source": [
    "Function running selected model:"
   ]
  },
  {
   "cell_type": "code",
   "execution_count": 5,
   "metadata": {
    "collapsed": true
   },
   "outputs": [],
   "source": [
    "def run_fit(graph, regularization_list, num_steps, print_every_n,train_dataset,train_labels):\n",
    "    for r in regularization_list:\n",
    "        with tf.Session(graph=graph) as session:\n",
    "            tf.initialize_all_variables().run()\n",
    "            session.run(regularization_parameter.assign(r))\n",
    "            print(\"---------------------------------------------------------\")\n",
    "            print(\"Initialized - r = \", regularization_parameter.eval())\n",
    "            for step in range(num_steps):\n",
    "                # Pick an offset within the training data, which has been randomized.\n",
    "                # Note: we could use better randomization across epochs.\n",
    "                offset = (step * batch_size) % (train_labels.shape[0] - batch_size)\n",
    "                # Generate a minibatch.\n",
    "                batch_data = train_dataset[offset:(offset + batch_size), :]\n",
    "                batch_labels = train_labels[offset:(offset + batch_size), :]\n",
    "                # Prepare a dictionary telling the session where to feed the minibatch.\n",
    "                # The key of the dictionary is the placeholder node of the graph to be fed,\n",
    "                # and the value is the numpy array to feed to it.\n",
    "                feed_dict = {tf_train_dataset : batch_data, tf_train_labels : batch_labels}\n",
    "                _, l, predictions = session.run(\n",
    "                  [optimizer, loss, train_prediction], feed_dict=feed_dict)\n",
    "                if (step % print_every_n == 0):\n",
    "                  print(\"Minibatch loss at step %d: %f\" % (step, l))\n",
    "                  print(\"Minibatch accuracy: %.1f%%\" % accuracy(predictions, batch_labels))\n",
    "                  print(\"Validation accuracy: %.1f%%\" % accuracy(\n",
    "                    valid_prediction.eval(), valid_labels))\n",
    "            print(\"Test accuracy: %.1f%%\" % accuracy(test_prediction.eval(), test_labels))"
   ]
  },
  {
   "cell_type": "markdown",
   "metadata": {},
   "source": [
    "Creating and running graph for logistic regression:"
   ]
  },
  {
   "cell_type": "code",
   "execution_count": 7,
   "metadata": {
    "collapsed": false
   },
   "outputs": [
    {
     "name": "stdout",
     "output_type": "stream",
     "text": [
      "---------------------------------------------------------\n",
      "Initialized - r =  1.0\n",
      "Minibatch loss at step 0: 3039.232666\n",
      "Minibatch accuracy: 12.5%\n",
      "Validation accuracy: 15.5%\n",
      "Minibatch loss at step 10000: 2.079980\n",
      "Minibatch accuracy: 48.4%\n",
      "Validation accuracy: 48.6%\n",
      "Minibatch loss at step 20000: 2.377190\n",
      "Minibatch accuracy: 42.2%\n",
      "Validation accuracy: 45.3%\n",
      "Minibatch loss at step 30000: 2.079784\n",
      "Minibatch accuracy: 37.5%\n",
      "Validation accuracy: 51.0%\n",
      "Test accuracy: 55.6%\n",
      "---------------------------------------------------------\n",
      "Initialized - r =  0.5\n",
      "Minibatch loss at step 0: 1520.993530\n",
      "Minibatch accuracy: 7.8%\n",
      "Validation accuracy: 12.8%\n",
      "Minibatch loss at step 10000: 1.671805\n",
      "Minibatch accuracy: 64.1%\n",
      "Validation accuracy: 63.1%\n",
      "Minibatch loss at step 20000: 1.587291\n",
      "Minibatch accuracy: 63.3%\n",
      "Validation accuracy: 64.5%\n",
      "Minibatch loss at step 30000: 1.688589\n",
      "Minibatch accuracy: 62.5%\n",
      "Validation accuracy: 65.4%\n",
      "Test accuracy: 71.3%\n",
      "---------------------------------------------------------\n",
      "Initialized - r =  0.05\n",
      "Minibatch loss at step 0: 169.410355\n",
      "Minibatch accuracy: 11.7%\n",
      "Validation accuracy: 15.7%\n",
      "Minibatch loss at step 10000: 0.952384\n",
      "Minibatch accuracy: 78.9%\n",
      "Validation accuracy: 80.0%\n",
      "Minibatch loss at step 20000: 0.857649\n",
      "Minibatch accuracy: 82.0%\n",
      "Validation accuracy: 78.9%\n",
      "Minibatch loss at step 30000: 1.096389\n",
      "Minibatch accuracy: 73.4%\n",
      "Validation accuracy: 79.7%\n",
      "Test accuracy: 86.5%\n",
      "---------------------------------------------------------\n",
      "Initialized - r =  0.005\n",
      "Minibatch loss at step 0: 30.374239\n",
      "Minibatch accuracy: 14.8%\n",
      "Validation accuracy: 13.2%\n",
      "Minibatch loss at step 10000: 0.748744\n",
      "Minibatch accuracy: 80.5%\n",
      "Validation accuracy: 82.2%\n",
      "Minibatch loss at step 20000: 0.615666\n",
      "Minibatch accuracy: 84.4%\n",
      "Validation accuracy: 82.0%\n",
      "Minibatch loss at step 30000: 0.907353\n",
      "Minibatch accuracy: 75.0%\n",
      "Validation accuracy: 81.7%\n",
      "Test accuracy: 88.2%\n",
      "---------------------------------------------------------\n",
      "Initialized - r =  0.00075\n",
      "Minibatch loss at step 0: 18.516016\n",
      "Minibatch accuracy: 11.7%\n",
      "Validation accuracy: 15.2%\n",
      "Minibatch loss at step 10000: 0.703556\n",
      "Minibatch accuracy: 78.1%\n",
      "Validation accuracy: 82.7%\n",
      "Minibatch loss at step 20000: 0.565296\n",
      "Minibatch accuracy: 83.6%\n",
      "Validation accuracy: 82.5%\n",
      "Minibatch loss at step 30000: 0.845360\n",
      "Minibatch accuracy: 76.6%\n",
      "Validation accuracy: 82.4%\n",
      "Test accuracy: 88.5%\n",
      "---------------------------------------------------------\n",
      "Initialized - r =  0.0005\n",
      "Minibatch loss at step 0: 17.422260\n",
      "Minibatch accuracy: 13.3%\n",
      "Validation accuracy: 17.1%\n",
      "Minibatch loss at step 10000: 0.702667\n",
      "Minibatch accuracy: 79.7%\n",
      "Validation accuracy: 82.7%\n",
      "Minibatch loss at step 20000: 0.562716\n",
      "Minibatch accuracy: 83.6%\n",
      "Validation accuracy: 82.5%\n",
      "Minibatch loss at step 30000: 0.836816\n",
      "Minibatch accuracy: 76.6%\n",
      "Validation accuracy: 82.3%\n",
      "Test accuracy: 88.5%\n",
      "---------------------------------------------------------\n",
      "Initialized - r =  0.00025\n",
      "Minibatch loss at step 0: 18.312815\n",
      "Minibatch accuracy: 9.4%\n",
      "Validation accuracy: 10.8%\n",
      "Minibatch loss at step 10000: 0.717390\n",
      "Minibatch accuracy: 78.9%\n",
      "Validation accuracy: 82.5%\n",
      "Minibatch loss at step 20000: 0.560486\n",
      "Minibatch accuracy: 82.8%\n",
      "Validation accuracy: 82.5%\n",
      "Minibatch loss at step 30000: 0.825018\n",
      "Minibatch accuracy: 77.3%\n",
      "Validation accuracy: 82.4%\n",
      "Test accuracy: 88.7%\n",
      "---------------------------------------------------------\n",
      "Initialized - r =  5e-05\n",
      "Minibatch loss at step 0: 17.004545\n",
      "Minibatch accuracy: 13.3%\n",
      "Validation accuracy: 9.9%\n",
      "Minibatch loss at step 10000: 0.719974\n",
      "Minibatch accuracy: 79.7%\n",
      "Validation accuracy: 82.1%\n",
      "Minibatch loss at step 20000: 0.580825\n",
      "Minibatch accuracy: 83.6%\n",
      "Validation accuracy: 82.3%\n",
      "Minibatch loss at step 30000: 0.805018\n",
      "Minibatch accuracy: 78.1%\n",
      "Validation accuracy: 82.4%\n",
      "Test accuracy: 88.8%\n",
      "---------------------------------------------------------\n",
      "Initialized - r =  0.0\n",
      "Minibatch loss at step 0: 14.835033\n",
      "Minibatch accuracy: 10.2%\n",
      "Validation accuracy: 14.9%\n",
      "Minibatch loss at step 10000: 0.764803\n",
      "Minibatch accuracy: 78.9%\n",
      "Validation accuracy: 81.0%\n",
      "Minibatch loss at step 20000: 0.555575\n",
      "Minibatch accuracy: 82.8%\n",
      "Validation accuracy: 82.0%\n",
      "Minibatch loss at step 30000: 0.827738\n",
      "Minibatch accuracy: 79.7%\n",
      "Validation accuracy: 82.2%\n",
      "Test accuracy: 88.5%\n"
     ]
    }
   ],
   "source": [
    "batch_size = 128\n",
    "\n",
    "graphLogReg = tf.Graph()\n",
    "with graphLogReg.as_default():\n",
    "\n",
    "  # Input data. For the training data, we use a placeholder that will be fed\n",
    "  # at run time with a training minibatch.\n",
    "  tf_train_dataset = tf.placeholder(tf.float32,\n",
    "                                    shape=(batch_size, image_size * image_size))\n",
    "  tf_train_labels = tf.placeholder(tf.float32, shape=(batch_size, num_labels))\n",
    "  tf_valid_dataset = tf.constant(valid_dataset)\n",
    "  tf_test_dataset = tf.constant(test_dataset)\n",
    "  \n",
    "  # Variables.\n",
    "  weights = tf.Variable(\n",
    "    tf.truncated_normal([image_size * image_size, num_labels]))\n",
    "  biases = tf.Variable(tf.zeros([num_labels]))\n",
    "  regularization_parameter = tf.Variable(0.0, trainable = False)\n",
    "  # Training computation.\n",
    "  logits = tf.matmul(tf_train_dataset, weights) + biases\n",
    "  loss = tf.reduce_mean(\n",
    "    tf.nn.softmax_cross_entropy_with_logits(logits, tf_train_labels))+regularization_parameter*tf.nn.l2_loss(weights)\n",
    "  \n",
    "  # Optimizer.\n",
    "  optimizer = tf.train.GradientDescentOptimizer(0.5).minimize(loss)\n",
    "  \n",
    "  # Predictions for the training, validation, and test data.\n",
    "  train_prediction = tf.nn.softmax(logits)\n",
    "  valid_prediction = tf.nn.softmax(\n",
    "    tf.matmul(tf_valid_dataset, weights) + biases)\n",
    "  test_prediction = tf.nn.softmax(tf.matmul(tf_test_dataset, weights) + biases)\n",
    "  run_fit(graphLogReg, [1, .5, .05, 5e-3, 7.5e-4, 5e-4, 2.5e-4, 5e-5, 0], 30001, 10000,train_dataset,train_labels) "
   ]
  },
  {
   "cell_type": "markdown",
   "metadata": {},
   "source": [
    " 5e-5 seems to be the best. But the improvement comparing to not using regularization is small probably because there is a lot of training data and model is not very complex."
   ]
  },
  {
   "cell_type": "markdown",
   "metadata": {},
   "source": [
    "Creating and running graph for neural network:"
   ]
  },
  {
   "cell_type": "code",
   "execution_count": 11,
   "metadata": {
    "collapsed": false
   },
   "outputs": [
    {
     "name": "stdout",
     "output_type": "stream",
     "text": [
      "---------------------------------------------------------\n",
      "Initialized - r =  0.5\n",
      "Minibatch loss at step 0: 2202.272461\n",
      "Minibatch accuracy: 11.7%\n",
      "Validation accuracy: 40.9%\n",
      "Minibatch loss at step 2000: 2.240600\n",
      "Minibatch accuracy: 38.3%\n",
      "Validation accuracy: 39.4%\n",
      "Minibatch loss at step 4000: 2.235852\n",
      "Minibatch accuracy: 46.1%\n",
      "Validation accuracy: 45.4%\n",
      "Test accuracy: 45.4%\n",
      "---------------------------------------------------------\n",
      "Initialized - r =  0.05\n",
      "Minibatch loss at step 0: 234.405441\n",
      "Minibatch accuracy: 9.4%\n",
      "Validation accuracy: 38.1%\n",
      "Minibatch loss at step 2000: 1.042582\n",
      "Minibatch accuracy: 84.4%\n",
      "Validation accuracy: 77.4%\n",
      "Minibatch loss at step 4000: 1.002550\n",
      "Minibatch accuracy: 83.6%\n",
      "Validation accuracy: 78.1%\n",
      "Test accuracy: 86.3%\n",
      "---------------------------------------------------------\n",
      "Initialized - r =  0.0005\n",
      "Minibatch loss at step 0: 17.164541\n",
      "Minibatch accuracy: 10.2%\n",
      "Validation accuracy: 44.3%\n",
      "Minibatch loss at step 2000: 0.899469\n",
      "Minibatch accuracy: 89.8%\n",
      "Validation accuracy: 87.1%\n",
      "Minibatch loss at step 4000: 0.550886\n",
      "Minibatch accuracy: 91.4%\n",
      "Validation accuracy: 88.4%\n",
      "Test accuracy: 94.0%\n",
      "---------------------------------------------------------\n",
      "Initialized - r =  0.0\n",
      "Minibatch loss at step 0: 9.070250\n",
      "Minibatch accuracy: 18.0%\n",
      "Validation accuracy: 45.4%\n",
      "Minibatch loss at step 2000: 0.509325\n",
      "Minibatch accuracy: 89.1%\n",
      "Validation accuracy: 86.3%\n",
      "Minibatch loss at step 4000: 0.490753\n",
      "Minibatch accuracy: 93.8%\n",
      "Validation accuracy: 87.9%\n",
      "Test accuracy: 94.2%\n"
     ]
    }
   ],
   "source": [
    "batch_size = 128\n",
    "hidden_nodes = 1024\n",
    "graphNN = tf.Graph()\n",
    "with graphNN.as_default():\n",
    "\n",
    "  # Input data. For the training data, we use a placeholder that will be fed\n",
    "  # at run time with a training minibatch.\n",
    "  tf_train_dataset = tf.placeholder(tf.float32,\n",
    "                                    shape=(batch_size, image_size * image_size))\n",
    "  tf_train_labels = tf.placeholder(tf.float32, shape=(batch_size, num_labels))\n",
    "  tf_valid_dataset = tf.constant(valid_dataset)\n",
    "  tf_test_dataset = tf.constant(test_dataset)\n",
    "\n",
    "      # Variables.\n",
    "  hidden_weights = tf.Variable(\n",
    "    tf.truncated_normal([image_size * image_size, hidden_nodes], stddev=1 / math.sqrt(float(image_size * image_size))))\n",
    "  hidden_biases = tf.Variable(tf.zeros([hidden_nodes]))\n",
    "  hidden = tf.nn.relu(tf.matmul(tf_train_dataset, hidden_weights) + hidden_biases)\n",
    "\n",
    "  weights = tf.Variable(tf.truncated_normal([hidden_nodes, num_labels]))\n",
    "  biases = tf.Variable(tf.zeros([num_labels]))\n",
    "\n",
    "  regularization_parameter = tf.Variable(0.0, trainable = False)\n",
    "    # Training computation.\n",
    "  logits = tf.matmul(hidden, weights) + biases\n",
    " \n",
    "  loss = tf.reduce_mean(\n",
    "    tf.nn.softmax_cross_entropy_with_logits(logits, tf_train_labels))+ \\\n",
    "    regularization_parameter*(tf.nn.l2_loss(weights)+tf.nn.l2_loss(hidden_weights))\n",
    "  \n",
    "  # Optimizer.\n",
    "  optimizer = tf.train.GradientDescentOptimizer(0.5).minimize(loss)\n",
    "  \n",
    "  # Predictions for the training, validation, and test data.\n",
    "  train_prediction = tf.nn.softmax(logits)\n",
    "  valid_prediction = tf.nn.softmax(\n",
    "    tf.matmul(tf.nn.relu(tf.matmul(tf_valid_dataset, hidden_weights) + hidden_biases), weights) + biases)\n",
    "  test_prediction = tf.nn.softmax(\n",
    "    tf.matmul(tf.nn.relu(tf.matmul(tf_test_dataset, hidden_weights) + hidden_biases), weights) + biases)\n",
    "  run_fit(graphNN, [ .5, .05, 5e-4,  0], 5001, 2000,train_dataset,train_labels)   "
   ]
  },
  {
   "cell_type": "markdown",
   "metadata": {},
   "source": [
    "Probably I need train the network for longer to see some effects of regularization."
   ]
  },
  {
   "cell_type": "markdown",
   "metadata": {
    "colab_type": "text",
    "id": "na8xX2yHZzNF"
   },
   "source": [
    "---\n",
    "Problem 2\n",
    "---------\n",
    "Let's demonstrate an extreme case of overfitting. Restrict your training data to just a few batches. What happens?\n",
    "\n",
    "---"
   ]
  },
  {
   "cell_type": "code",
   "execution_count": 14,
   "metadata": {
    "collapsed": false
   },
   "outputs": [
    {
     "name": "stdout",
     "output_type": "stream",
     "text": [
      "---------------------------------------------------------\n",
      "Initialized - r =  0.0\n",
      "Minibatch loss at step 0: 10.023168\n",
      "Minibatch accuracy: 9.4%\n",
      "Validation accuracy: 36.5%\n",
      "Minibatch loss at step 10000: 0.000000\n",
      "Minibatch accuracy: 100.0%\n",
      "Validation accuracy: 73.7%\n",
      "Test accuracy: 80.5%\n"
     ]
    }
   ],
   "source": [
    " run_fit(graphNN, [ 0 ], 10001, 10000,train_dataset[:batch_size*3,:],train_labels[:batch_size*3,:])"
   ]
  },
  {
   "cell_type": "markdown",
   "metadata": {},
   "source": [
    "100% fit to training data, drop in accuracy on test and validation data."
   ]
  },
  {
   "cell_type": "markdown",
   "metadata": {
    "colab_type": "text",
    "id": "ww3SCBUdlkRc"
   },
   "source": [
    "---\n",
    "Problem 3\n",
    "---------\n",
    "Introduce Dropout on the hidden layer of the neural network. Remember: Dropout should only be introduced during training, not evaluation, otherwise your evaluation results would be stochastic as well. TensorFlow provides `nn.dropout()` for that, but you have to make sure it's only inserted during training.\n",
    "\n",
    "What happens to our extreme overfitting case?\n",
    "\n",
    "---"
   ]
  },
  {
   "cell_type": "code",
   "execution_count": 15,
   "metadata": {
    "collapsed": true
   },
   "outputs": [],
   "source": [
    "batch_size = 128\n",
    "hidden_nodes = 1024\n",
    "graphNNdropout = tf.Graph()\n",
    "with graphNNdropout.as_default():\n",
    "\n",
    "  # Input data. For the training data, we use a placeholder that will be fed\n",
    "  # at run time with a training minibatch.\n",
    "  tf_train_dataset = tf.placeholder(tf.float32,\n",
    "                                    shape=(batch_size, image_size * image_size))\n",
    "  tf_train_labels = tf.placeholder(tf.float32, shape=(batch_size, num_labels))\n",
    "  tf_valid_dataset = tf.constant(valid_dataset)\n",
    "  tf_test_dataset = tf.constant(test_dataset)\n",
    "    \n",
    "      # Variables.\n",
    "  hidden_weights = tf.Variable(\n",
    "    tf.truncated_normal([image_size * image_size, hidden_nodes], stddev=1 / math.sqrt(float(image_size * image_size))))\n",
    "  hidden_biases = tf.Variable(tf.zeros([hidden_nodes]))\n",
    "  hidden = tf.nn.relu(tf.matmul(tf_train_dataset, hidden_weights) + hidden_biases)\n",
    "  hidden_after_drop = tf.nn.dropout(hidden, 0.5)\n",
    "  weights = tf.Variable(tf.truncated_normal([hidden_nodes, num_labels]))\n",
    "  biases = tf.Variable(tf.zeros([num_labels]))\n",
    "\n",
    "  regularization_parameter = tf.Variable(0.0, trainable = False)\n",
    "    # Training computation.\n",
    "  logits = tf.matmul(hidden_after_drop, weights) + biases\n",
    " \n",
    "  loss = tf.reduce_mean(\n",
    "    tf.nn.softmax_cross_entropy_with_logits(logits, tf_train_labels))+regularization_parameter*tf.nn.l2_loss(weights)\n",
    "  \n",
    "  # Optimizer.\n",
    "  optimizer = tf.train.GradientDescentOptimizer(.5).minimize(loss)\n",
    "  \n",
    "  # Predictions for the training, validation, and test data.\n",
    "  train_prediction = tf.nn.softmax(logits)\n",
    "  valid_prediction = tf.nn.softmax(\n",
    "    tf.matmul(tf.nn.relu(tf.matmul(tf_valid_dataset, hidden_weights) + hidden_biases), weights) + biases)\n",
    "  test_prediction = tf.nn.softmax(\n",
    "    tf.matmul(tf.nn.relu(tf.matmul(tf_test_dataset, hidden_weights) + hidden_biases), weights) + biases)"
   ]
  },
  {
   "cell_type": "code",
   "execution_count": 16,
   "metadata": {
    "collapsed": false
   },
   "outputs": [
    {
     "name": "stdout",
     "output_type": "stream",
     "text": [
      "---------------------------------------------------------\n",
      "Initialized - r =  0.0\n",
      "Minibatch loss at step 0: 16.497303\n",
      "Minibatch accuracy: 12.5%\n",
      "Validation accuracy: 43.1%\n",
      "Minibatch loss at step 10000: 0.000000\n",
      "Minibatch accuracy: 100.0%\n",
      "Validation accuracy: 75.3%\n",
      "Test accuracy: 82.8%\n"
     ]
    }
   ],
   "source": [
    "run_fit(graphNNdropout, [0], 10001, 10000,train_dataset[:batch_size*3,:],train_labels[:batch_size*3,:])"
   ]
  },
  {
   "cell_type": "markdown",
   "metadata": {},
   "source": [
    "Improvement in test accuracy."
   ]
  },
  {
   "cell_type": "markdown",
   "metadata": {
    "colab_type": "text",
    "id": "-b1hTz3VWZjw"
   },
   "source": [
    "---\n",
    "Problem 4\n",
    "---------\n",
    "\n",
    "Try to get the best performance you can using a multi-layer model! The best reported test accuracy using a deep network is [97.1%](http://yaroslavvb.blogspot.com/2011/09/notmnist-dataset.html?showComment=1391023266211#c8758720086795711595).\n",
    "\n",
    "One avenue you can explore is to add multiple layers.\n",
    "\n",
    "Another one is to use learning rate decay:\n",
    "\n",
    "    global_step = tf.Variable(0)  # count the number of steps taken.\n",
    "    learning_rate = tf.train.exponential_decay(0.5, global_step, ...)\n",
    "    optimizer = tf.train.GradientDescentOptimizer(learning_rate).minimize(loss, global_step=global_step)\n",
    " \n",
    " ---\n"
   ]
  },
  {
   "cell_type": "code",
   "execution_count": 18,
   "metadata": {
    "collapsed": true
   },
   "outputs": [],
   "source": [
    " def file_name(epoch_nb,test_acc_log, num_epochs, batch_size,hidden_nodes, learning_rate, decay_rate, \\\n",
    "              dropout_keep_prob, l2_penalty, train_dataset,train_labels, path_to_save):\n",
    "    file_name = str(epoch_nb)+'_'+str(test_acc_log) + '_ne.'+str(num_epochs)+'_bs.' + str(batch_size)+ \\\n",
    "    '_lr.'+str(learning_rate) + '_dr'+str(decay_rate) + '_d.' + str(dropout_keep_prob) + \\\n",
    "    '_l2.'+ str(l2_penalty) + '_t'+'.csv'\n",
    "    file_name = os.path.join(path_to_save, file_name)\n",
    "    return file_name\n"
   ]
  },
  {
   "cell_type": "code",
   "execution_count": 19,
   "metadata": {
    "collapsed": false
   },
   "outputs": [],
   "source": [
    "def run_model(num_epochs, batch_size,hidden_nodes, learning_rate, decay_rate, dropout_keep_prob, l2_penalty, \\\n",
    "                train_dataset,train_labels, path_to_save, quiet = True, epoch_calc = False, beta1=0.9, beta2=0.999):\n",
    "    num_steps = (train_labels.shape[0] * num_epochs) / batch_size\n",
    "    epoch_log = np.full(num_steps, np.nan)\n",
    "    loss_log = np.full(num_steps, np.nan)\n",
    "    acc_log = np.full(num_steps, np.nan)\n",
    "    val_acc_log = np.full(num_steps, np.nan)\n",
    "    test_acc_log = np.full(num_steps, np.nan)\n",
    "    print(num_steps)\n",
    "    if not os.path.exists(path_to_save):\n",
    "        os.makedirs(path_to_save)\n",
    "        \n",
    "    epoch_nb = -1\n",
    "    graph = tf.Graph()\n",
    "    # GRAPH\n",
    "    with graph.as_default():\n",
    "        # Input data. For the training data, we use a placeholder that will be fed\n",
    "        # at run time with a training minibatch.\n",
    "\n",
    "        tf_train_dataset = tf.placeholder(tf.float32,shape=(batch_size, image_size * image_size))\n",
    "        tf_train_labels = tf.placeholder(tf.float32, shape=(batch_size, num_labels))\n",
    "        tf_valid_dataset = tf.constant(valid_dataset)\n",
    "        tf_test_dataset = tf.constant(test_dataset)\n",
    "        # Input parameters:\n",
    "        tf_learning_rate_0 = tf.placeholder(tf.float32)\n",
    "        tf_dropout_keep_prob =  tf.placeholder(tf.float32)\n",
    "        tf_l2_penalty =  tf.placeholder(tf.float32)\n",
    "        tf_decay_rate = tf.placeholder(tf.float32)\n",
    "        tf_step_nb = tf.placeholder(tf.float32)\n",
    "        # Variables.\n",
    "        # 1 layer      \n",
    "        hidden_weights = tf.Variable(\n",
    "        tf.truncated_normal([image_size * image_size, 2048], stddev=2 / math.sqrt(float(image_size * image_size))))\n",
    "        hidden_biases = tf.Variable(tf.zeros([2048]))\n",
    "        hidden = tf.nn.relu(tf.matmul(tf_train_dataset, hidden_weights) + hidden_biases)\n",
    "        hidden_after_drop = tf.nn.dropout(hidden, tf_dropout_keep_prob)\n",
    "\n",
    "        # 2 layer \n",
    "        hidden_weights_2 = tf.Variable(\n",
    "        tf.truncated_normal([2048, hidden_nodes], stddev=2 / math.sqrt(float(hidden_nodes))))\n",
    "        hidden_biases_2 = tf.Variable(tf.zeros([hidden_nodes]))\n",
    "        hidden_2 = tf.nn.relu(tf.matmul(hidden_after_drop, hidden_weights_2) + hidden_biases_2)\n",
    "        hidden_after_drop_2 = tf.nn.dropout(hidden_2, tf_dropout_keep_prob)\n",
    "\n",
    "        # 3 layer \n",
    "        hidden_weights_3 = tf.Variable(\n",
    "        tf.truncated_normal([hidden_nodes, hidden_nodes], stddev=2 / math.sqrt(float(hidden_nodes))))\n",
    "        hidden_biases_3 = tf.Variable(tf.zeros([hidden_nodes]))\n",
    "        hidden_3 = tf.nn.relu(tf.matmul(hidden_after_drop_2, hidden_weights_3) + hidden_biases_3)\n",
    "        hidden_after_drop_3 = tf.nn.dropout(hidden_3, tf_dropout_keep_prob)\n",
    "\n",
    "        weights = tf.Variable(tf.truncated_normal([hidden_nodes, num_labels]))\n",
    "        biases = tf.Variable(tf.zeros([num_labels]))\n",
    "\n",
    "        # Training computation.\n",
    "        logits = tf.matmul(hidden_after_drop_3, weights) + biases\n",
    "        loss = tf.reduce_mean(tf.nn.softmax_cross_entropy_with_logits(logits, tf_train_labels))\n",
    "        \n",
    "        #reg = tf_l2_penalty*(tf.nn.l2_loss(hidden_weights)+ \n",
    "        #                     tf.nn.l2_loss(hidden_weights_2)+ \n",
    "        #                     tf.nn.l2_loss(hidden_weights_3)+\n",
    "        #                     tf.nn.l2_loss(weights))\n",
    "        #loss+=reg\n",
    "        # Optimizer.\n",
    "        tf_learning_rate = tf.train.exponential_decay(tf_learning_rate_0, tf_step_nb, 1000, tf_decay_rate)\n",
    "        optimizer = tf.train.AdamOptimizer(tf_learning_rate_0,beta1,beta2).minimize(loss)\n",
    "\n",
    "        # Predictions for the training, validation, and test data.\n",
    "        train_prediction = tf.nn.softmax(logits)\n",
    "        valid_prediction = tf.nn.softmax(\n",
    "        tf.matmul(tf.nn.relu(tf.matmul(tf.nn.relu(tf.matmul(\n",
    "\n",
    "                  tf.nn.relu(tf.matmul(tf_valid_dataset, hidden_weights) + hidden_biases),\n",
    "\n",
    "                                        hidden_weights_2) + hidden_biases_2),\n",
    "\n",
    "                                        hidden_weights_3) + hidden_biases_3), weights) + biases)\n",
    "\n",
    "        test_prediction = tf.nn.softmax(\n",
    "        tf.matmul(tf.nn.relu(tf.matmul(\n",
    "        tf.nn.relu(tf.matmul(\n",
    "        tf.nn.relu(tf.matmul(tf_test_dataset, hidden_weights) + hidden_biases),\n",
    "                                hidden_weights_2) + hidden_biases_2),\n",
    "                                hidden_weights_3) + hidden_biases_3), weights) + biases)\n",
    "        \n",
    " #starting new session \n",
    "    epoch_nb = -1\n",
    "    with tf.Session(graph=graph) as session:\n",
    "        tf.initialize_all_variables().run()\n",
    "        for step in range(num_steps):\n",
    "            # Pick an offset within the training data, which has been randomized.\n",
    "            # Note: we could use better randomization across epochs.\n",
    "            offset = (step * batch_size) % (train_labels.shape[0] - batch_size)\n",
    "            # Generate a minibatch.\n",
    "            batch_data = train_dataset[offset:(offset + batch_size), :]\n",
    "            batch_labels = train_labels[offset:(offset + batch_size), :]\n",
    "\n",
    "            # Prepare a dictionary telling the session where to feed the minibatch.\n",
    "            # The key of the dictionary is the placeholder node of the graph to be fed,\n",
    "            # and the value is the numpy array to feed to it.\n",
    "            feed_dict = {tf_train_dataset : batch_data, tf_train_labels : batch_labels, \n",
    "                        tf_learning_rate_0 : learning_rate, tf_dropout_keep_prob : dropout_keep_prob, \n",
    "                        tf_l2_penalty : l2_penalty,tf_decay_rate : decay_rate, tf_step_nb : step}\n",
    "            _, l, predictions = session.run(\n",
    "                    [optimizer, loss, train_prediction], feed_dict=feed_dict)\n",
    "            loss_log[step] = l\n",
    "            epoch_log[step] = step * batch_size / float(train_labels.shape[0])\n",
    "            if (step % 50 == 0):\n",
    "                val_acc_log[step] = accuracy(valid_prediction.eval(), valid_labels)\n",
    "                acc_log[step] = accuracy(predictions, batch_labels)\n",
    "                if not quiet: \n",
    "                    print(\"Minibatch loss at step %d: %f\" % (step, l))\n",
    "                    print(\"Minibatch accuracy: %.1f%%\" % acc_log[step])\n",
    "                    print(\"Validation accuracy: %.1f%%\" % val_acc_log[step])\n",
    "            if epoch_calc and epoch_log[step] > epoch_nb:\n",
    "                epoch_nb+=1\n",
    "                test_acc_log[step] = accuracy(test_prediction.eval(), test_labels)\n",
    "                val_acc_log[step] = accuracy(valid_prediction.eval(), valid_labels)\n",
    "                acc_log[step] = accuracy(predictions, batch_labels)\n",
    "                print(\"Test accuracy: %.1f%%\" %  test_acc_log[step])\n",
    "                print(\"Minibatch loss at step %d: %f\" % (step, l))\n",
    "                print(\"Minibatch accuracy: %.1f%%\" % acc_log[step])\n",
    "                print(\"Validation accuracy: %.1f%%\" % val_acc_log[step])\n",
    "                fn = file_name(epoch_nb,test_acc_log[step], num_epochs, batch_size,hidden_nodes, \\\n",
    "                               learning_rate, decay_rate, dropout_keep_prob, l2_penalty, \\\n",
    "                               train_dataset,train_labels, path_to_save)\n",
    "                np.savetxt(fn, np.vstack((epoch_log, loss_log, acc_log, val_acc_log, test_acc_log)).T, \n",
    "                   delimiter = ';', fmt='%.10f')\n",
    "        \n",
    "        test_acc_log[step] = accuracy(test_prediction.eval(), test_labels)\n",
    "        fn = file_name(epoch_nb,test_acc_log[step], num_epochs, batch_size,hidden_nodes, \\\n",
    "                       learning_rate, decay_rate, dropout_keep_prob, l2_penalty, \\\n",
    "                       train_dataset,train_labels, path_to_save)\n",
    "        np.savetxt(fn, np.vstack((epoch_log, loss_log, acc_log, val_acc_log, test_acc_log)).T, \n",
    "                   delimiter = ';', fmt='%.10f')\n",
    "        print(\"Test accuracy: %.1f%%\" % accuracy(test_prediction.eval(), test_labels))"
   ]
  },
  {
   "cell_type": "markdown",
   "metadata": {},
   "source": [
    "Test if we get 100% accuracy on small training dataset:"
   ]
  },
  {
   "cell_type": "code",
   "execution_count": 20,
   "metadata": {
    "collapsed": false
   },
   "outputs": [
    {
     "name": "stdout",
     "output_type": "stream",
     "text": [
      "600\n",
      "Minibatch loss at step 0: 59.842236\n",
      "Minibatch accuracy: 12.5%\n",
      "Validation accuracy: 24.4%\n",
      "Minibatch loss at step 50: 0.000042\n",
      "Minibatch accuracy: 100.0%\n",
      "Validation accuracy: 63.5%\n",
      "Minibatch loss at step 100: 0.000000\n",
      "Minibatch accuracy: 100.0%\n",
      "Validation accuracy: 64.3%\n",
      "Minibatch loss at step 150: 0.000000\n",
      "Minibatch accuracy: 100.0%\n",
      "Validation accuracy: 64.3%\n",
      "Minibatch loss at step 200: 0.000000\n",
      "Minibatch accuracy: 100.0%\n",
      "Validation accuracy: 64.3%\n",
      "Minibatch loss at step 250: 0.000000\n",
      "Minibatch accuracy: 100.0%\n",
      "Validation accuracy: 64.4%\n",
      "Minibatch loss at step 300: 0.000000\n",
      "Minibatch accuracy: 100.0%\n",
      "Validation accuracy: 64.5%\n",
      "Minibatch loss at step 350: 0.000000\n",
      "Minibatch accuracy: 100.0%\n",
      "Validation accuracy: 64.5%\n",
      "Minibatch loss at step 400: 0.000000\n",
      "Minibatch accuracy: 100.0%\n",
      "Validation accuracy: 64.5%\n",
      "Minibatch loss at step 450: 0.000000\n",
      "Minibatch accuracy: 100.0%\n",
      "Validation accuracy: 64.6%\n",
      "Minibatch loss at step 500: 0.000000\n",
      "Minibatch accuracy: 100.0%\n",
      "Validation accuracy: 64.6%\n",
      "Minibatch loss at step 550: 0.000000\n",
      "Minibatch accuracy: 100.0%\n",
      "Validation accuracy: 64.6%\n",
      "Test accuracy: 70.9%\n"
     ]
    }
   ],
   "source": [
    "run_model(300, 128,1024, 0.005, 0.98, 1.0, 0, train_dataset[:256],train_labels[:256], '/notebooks/run1', False)"
   ]
  },
  {
   "cell_type": "markdown",
   "metadata": {},
   "source": [
    "OK!"
   ]
  },
  {
   "cell_type": "markdown",
   "metadata": {},
   "source": [
    "Testing parameters:"
   ]
  },
  {
   "cell_type": "code",
   "execution_count": null,
   "metadata": {
    "collapsed": false
   },
   "outputs": [],
   "source": [
    "num_epochs = 2\n",
    "hidden_nodes = 1024\n",
    "for i in range(50):\n",
    "    t0 = time.time()\n",
    "    batch_size = 1024\n",
    "    learning_rate = 10 ** rd.uniform(-5., 1)\n",
    "    decay_rate = rd.uniform(0.9,1)\n",
    "    dropout_keep_prob = rd.uniform(0.4,1)\n",
    "    l2_penalty = 10 ** rd.uniform(-6., 1.)\n",
    "    print('Model',i,'batch_size:',batch_size, 'learning_rate:', learning_rate,\\\n",
    "          'decay_rate:', decay_rate, 'dropout_keep_prob:', dropout_keep_prob,\n",
    "         'l2_penalty:', l2_penalty)\n",
    "    run_model(num_epochs, batch_size,hidden_nodes, learning_rate,decay_rate, dropout_keep_prob, l2_penalty, \\\n",
    "                train_dataset,train_labels, '/notebooks/run1', True, True)   \n",
    "    t1 = time.time()\n",
    "    print('Model',i,'- time:',(t1-t0)/60, 'min.')"
   ]
  },
  {
   "cell_type": "code",
   "execution_count": 24,
   "metadata": {
    "collapsed": false
   },
   "outputs": [
    {
     "name": "stdout",
     "output_type": "stream",
     "text": [
      "17089\n",
      "Test accuracy: 37.2%\n",
      "Minibatch loss at step 0: 54.744087\n",
      "Minibatch accuracy: 9.3%\n",
      "Validation accuracy: 34.2%\n",
      "Test accuracy: 44.1%\n",
      "Minibatch loss at step 1: 99.426155\n",
      "Minibatch accuracy: 30.0%\n",
      "Validation accuracy: 39.1%\n",
      "Test accuracy: 91.0%\n",
      "Minibatch loss at step 342: 0.614311\n",
      "Minibatch accuracy: 81.5%\n",
      "Validation accuracy: 84.7%\n",
      "Test accuracy: 92.8%\n",
      "Minibatch loss at step 684: 0.434510\n",
      "Minibatch accuracy: 86.9%\n",
      "Validation accuracy: 86.9%\n",
      "Test accuracy: 93.5%\n",
      "Minibatch loss at step 1026: 0.388294\n",
      "Minibatch accuracy: 88.2%\n",
      "Validation accuracy: 87.6%\n",
      "Test accuracy: 94.1%\n",
      "Minibatch loss at step 1368: 0.320395\n",
      "Minibatch accuracy: 89.9%\n",
      "Validation accuracy: 88.6%\n",
      "Test accuracy: 94.5%\n",
      "Minibatch loss at step 1709: 0.339919\n",
      "Minibatch accuracy: 89.2%\n",
      "Validation accuracy: 89.0%\n",
      "Test accuracy: 94.7%\n",
      "Minibatch loss at step 2051: 0.305903\n",
      "Minibatch accuracy: 90.4%\n",
      "Validation accuracy: 89.2%\n",
      "Test accuracy: 94.8%\n",
      "Minibatch loss at step 2393: 0.299752\n",
      "Minibatch accuracy: 90.5%\n",
      "Validation accuracy: 89.5%\n",
      "Test accuracy: 95.3%\n",
      "Minibatch loss at step 2735: 0.287748\n",
      "Minibatch accuracy: 91.8%\n",
      "Validation accuracy: 89.9%\n",
      "Test accuracy: 95.3%\n",
      "Minibatch loss at step 3077: 0.290636\n",
      "Minibatch accuracy: 89.6%\n",
      "Validation accuracy: 89.9%\n",
      "Test accuracy: 95.2%\n",
      "Minibatch loss at step 3418: 0.300293\n",
      "Minibatch accuracy: 90.5%\n",
      "Validation accuracy: 89.9%\n",
      "Test accuracy: 95.5%\n",
      "Minibatch loss at step 3760: 0.315222\n",
      "Minibatch accuracy: 90.1%\n",
      "Validation accuracy: 90.2%\n",
      "Test accuracy: 95.3%\n",
      "Minibatch loss at step 4102: 0.290114\n",
      "Minibatch accuracy: 90.2%\n",
      "Validation accuracy: 90.1%\n",
      "Test accuracy: 95.4%\n",
      "Minibatch loss at step 4444: 0.295031\n",
      "Minibatch accuracy: 91.8%\n",
      "Validation accuracy: 90.4%\n",
      "Test accuracy: 95.3%\n",
      "Minibatch loss at step 4786: 0.271497\n",
      "Minibatch accuracy: 91.6%\n",
      "Validation accuracy: 90.7%\n",
      "Test accuracy: 95.6%\n",
      "Minibatch loss at step 5127: 0.253668\n",
      "Minibatch accuracy: 91.5%\n",
      "Validation accuracy: 90.4%\n",
      "Test accuracy: 95.5%\n",
      "Minibatch loss at step 5469: 0.261583\n",
      "Minibatch accuracy: 91.8%\n",
      "Validation accuracy: 90.2%\n",
      "Test accuracy: 95.9%\n",
      "Minibatch loss at step 5811: 0.275213\n",
      "Minibatch accuracy: 91.4%\n",
      "Validation accuracy: 90.5%\n",
      "Test accuracy: 95.8%\n",
      "Minibatch loss at step 6153: 0.263387\n",
      "Minibatch accuracy: 92.0%\n",
      "Validation accuracy: 90.5%\n",
      "Test accuracy: 95.7%\n",
      "Minibatch loss at step 6495: 0.271901\n",
      "Minibatch accuracy: 91.8%\n",
      "Validation accuracy: 90.6%\n",
      "Test accuracy: 95.8%\n",
      "Minibatch loss at step 6836: 0.272512\n",
      "Minibatch accuracy: 92.3%\n",
      "Validation accuracy: 90.7%\n",
      "Test accuracy: 95.7%\n",
      "Minibatch loss at step 7178: 0.192755\n",
      "Minibatch accuracy: 93.1%\n",
      "Validation accuracy: 90.7%\n",
      "Test accuracy: 95.8%\n",
      "Minibatch loss at step 7520: 0.212276\n",
      "Minibatch accuracy: 93.0%\n",
      "Validation accuracy: 91.0%\n",
      "Test accuracy: 95.8%\n",
      "Minibatch loss at step 7862: 0.198350\n",
      "Minibatch accuracy: 92.7%\n",
      "Validation accuracy: 90.9%\n",
      "Test accuracy: 95.8%\n",
      "Minibatch loss at step 8204: 0.296964\n",
      "Minibatch accuracy: 92.0%\n",
      "Validation accuracy: 91.1%\n",
      "Test accuracy: 96.0%\n",
      "Minibatch loss at step 8545: 0.256372\n",
      "Minibatch accuracy: 91.9%\n",
      "Validation accuracy: 91.2%\n",
      "Test accuracy: 96.2%\n",
      "Minibatch loss at step 8887: 0.195941\n",
      "Minibatch accuracy: 93.7%\n",
      "Validation accuracy: 91.3%\n",
      "Test accuracy: 95.9%\n",
      "Minibatch loss at step 9229: 0.203969\n",
      "Minibatch accuracy: 93.4%\n",
      "Validation accuracy: 91.3%\n",
      "Test accuracy: 96.0%\n",
      "Minibatch loss at step 9571: 0.152744\n",
      "Minibatch accuracy: 95.1%\n",
      "Validation accuracy: 91.4%\n",
      "Test accuracy: 96.1%\n",
      "Minibatch loss at step 9913: 0.216378\n",
      "Minibatch accuracy: 93.6%\n",
      "Validation accuracy: 91.4%\n",
      "Test accuracy: 96.0%\n",
      "Minibatch loss at step 10254: 0.186435\n",
      "Minibatch accuracy: 93.8%\n",
      "Validation accuracy: 91.1%\n",
      "Test accuracy: 96.1%\n",
      "Minibatch loss at step 10596: 0.161071\n",
      "Minibatch accuracy: 94.2%\n",
      "Validation accuracy: 91.3%\n",
      "Test accuracy: 96.2%\n",
      "Minibatch loss at step 10938: 0.174461\n",
      "Minibatch accuracy: 94.2%\n",
      "Validation accuracy: 91.6%\n",
      "Test accuracy: 96.1%\n",
      "Minibatch loss at step 11280: 0.161222\n",
      "Minibatch accuracy: 94.9%\n",
      "Validation accuracy: 91.3%\n",
      "Test accuracy: 96.2%\n",
      "Minibatch loss at step 11622: 0.197599\n",
      "Minibatch accuracy: 93.8%\n",
      "Validation accuracy: 91.5%\n",
      "Test accuracy: 96.2%\n",
      "Minibatch loss at step 11963: 0.202345\n",
      "Minibatch accuracy: 93.8%\n",
      "Validation accuracy: 91.5%\n",
      "Test accuracy: 96.5%\n",
      "Minibatch loss at step 12305: 0.188491\n",
      "Minibatch accuracy: 94.7%\n",
      "Validation accuracy: 91.6%\n",
      "Test accuracy: 96.3%\n",
      "Minibatch loss at step 12647: 0.174133\n",
      "Minibatch accuracy: 94.8%\n",
      "Validation accuracy: 91.7%\n",
      "Test accuracy: 96.3%\n",
      "Minibatch loss at step 12989: 0.130008\n",
      "Minibatch accuracy: 95.6%\n",
      "Validation accuracy: 91.8%\n",
      "Test accuracy: 96.2%\n",
      "Minibatch loss at step 13331: 0.207981\n",
      "Minibatch accuracy: 94.2%\n",
      "Validation accuracy: 91.7%\n",
      "Test accuracy: 96.1%\n",
      "Minibatch loss at step 13672: 0.151370\n",
      "Minibatch accuracy: 95.6%\n",
      "Validation accuracy: 91.7%\n",
      "Test accuracy: 96.2%\n",
      "Minibatch loss at step 14014: 0.151898\n",
      "Minibatch accuracy: 94.9%\n",
      "Validation accuracy: 91.7%\n",
      "Test accuracy: 96.4%\n",
      "Minibatch loss at step 14356: 0.152629\n",
      "Minibatch accuracy: 94.8%\n",
      "Validation accuracy: 91.7%\n",
      "Test accuracy: 96.4%\n",
      "Minibatch loss at step 14698: 0.128518\n",
      "Minibatch accuracy: 95.9%\n",
      "Validation accuracy: 91.8%\n",
      "Test accuracy: 96.4%\n",
      "Minibatch loss at step 15040: 0.148106\n",
      "Minibatch accuracy: 95.5%\n",
      "Validation accuracy: 92.1%\n",
      "Test accuracy: 96.4%\n",
      "Minibatch loss at step 15381: 0.147373\n",
      "Minibatch accuracy: 94.8%\n",
      "Validation accuracy: 92.0%\n",
      "Test accuracy: 96.4%\n",
      "Minibatch loss at step 15723: 0.121452\n",
      "Minibatch accuracy: 95.5%\n",
      "Validation accuracy: 92.0%\n",
      "Test accuracy: 96.5%\n",
      "Minibatch loss at step 16065: 0.142404\n",
      "Minibatch accuracy: 95.4%\n",
      "Validation accuracy: 91.9%\n",
      "Test accuracy: 96.4%\n",
      "Minibatch loss at step 16407: 0.156410\n",
      "Minibatch accuracy: 95.0%\n",
      "Validation accuracy: 92.1%\n",
      "Test accuracy: 96.4%\n",
      "Minibatch loss at step 16749: 0.140709\n",
      "Minibatch accuracy: 95.4%\n",
      "Validation accuracy: 91.8%\n",
      "Test accuracy: 96.6%\n"
     ]
    }
   ],
   "source": [
    "num_epochs = 50\n",
    "decay_rate = 0.99\n",
    "batch_size = 1024\n",
    "learning_rate = 0.001\n",
    "dropout_keep_prob = 0.9\n",
    "#l2_penalty = 1.08\n",
    "run_model(num_epochs, batch_size,hidden_nodes, learning_rate,decay_rate, dropout_keep_prob, 0, \\\n",
    "                train_dataset,train_labels, '/notebooks/run2', True, True)\n"
   ]
  },
  {
   "cell_type": "markdown",
   "metadata": {
    "collapsed": true
   },
   "source": [
    "It a bit overfitted."
   ]
  },
  {
   "cell_type": "code",
   "execution_count": null,
   "metadata": {
    "collapsed": true
   },
   "outputs": [],
   "source": []
  }
 ],
 "metadata": {
  "colab": {
   "default_view": {},
   "name": "3_regularization.ipynb",
   "provenance": [],
   "version": "0.3.2",
   "views": {}
  },
  "kernelspec": {
   "display_name": "Python 2",
   "language": "python",
   "name": "python2"
  },
  "language_info": {
   "codemirror_mode": {
    "name": "ipython",
    "version": 2
   },
   "file_extension": ".py",
   "mimetype": "text/x-python",
   "name": "python",
   "nbconvert_exporter": "python",
   "pygments_lexer": "ipython2",
   "version": "2.7.6"
  }
 },
 "nbformat": 4,
 "nbformat_minor": 0
}
